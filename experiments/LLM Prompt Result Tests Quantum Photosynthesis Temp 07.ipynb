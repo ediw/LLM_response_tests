{
 "cells": [
  {
   "cell_type": "code",
   "execution_count": 1,
   "id": "d64796c8-8ad5-4f8c-b78a-10a84cdb4d7d",
   "metadata": {},
   "outputs": [],
   "source": [
    "import openai\n",
    "import numpy as np\n",
    "import pandas as pd\n",
    "from sentence_transformers import SentenceTransformer\n",
    "from sklearn.metrics.pairwise import cosine_similarity\n",
    "import matplotlib.pyplot as plt\n",
    "import seaborn as sns\n",
    "import os\n",
    "import io\n",
    "import pickle\n",
    "from tqdm import tqdm, trange\n",
    "from IPython.display import display, Markdown, HTML\n",
    "import re\n",
    "from matplotlib.animation import FuncAnimation\n",
    "\n",
    "from deepeval.test_case import LLMTestCase, LLMTestCaseParams\n",
    "from deepeval.metrics import GEval, AnswerRelevancyMetric, FaithfulnessMetric, HallucinationMetric\n",
    "from deepeval.evaluate import evaluate, DisplayConfig"
   ]
  },
  {
   "cell_type": "code",
   "execution_count": 2,
   "id": "046da571-427e-4ece-a22e-eef461de1bc8",
   "metadata": {},
   "outputs": [],
   "source": [
    "# --- Funkcje ---\n",
    "def get_response(prompt, temperature=0.7):\n",
    "    response = openai.chat.completions.create(\n",
    "        model=MODEL,\n",
    "        messages=[{\"role\": \"user\", \"content\": prompt}],\n",
    "        temperature=temperature,\n",
    "        max_tokens=300\n",
    "    )\n",
    "    return response.choices[0].message.content.strip()\n",
    "\n",
    "def normalize_markdown(text):\n",
    "    # usuń nagłówki i znaczniki\n",
    "    text = re.sub(r\"`{1,3}[^`]+`{1,3}\", \"\", text)  # kod inline\n",
    "    text = re.sub(r\"#+\\\\s*\", \"\", text)            # nagłówki\n",
    "    text = re.sub(r\"\\\\*\\\\*?|__?\", \"\", text)        # pogrubienie/kursywa\n",
    "    text = re.sub(r\"!?\\[.*?\\]\\(.*?\\)\", \"\", text)   # linki i obrazki\n",
    "    text = re.sub(r\"[\\\\*\\\\-\\\\_]{2,}\", \" \", text)   # linie poziome\n",
    "    return text.strip()\n",
    "\n",
    "def get_similarity(text1, text2):\n",
    "    text1 = normalize_markdown(text1)\n",
    "    text2 = normalize_markdown(text2)\n",
    "    emb1 = embedding_model.encode([text1])[0]\n",
    "    emb2 = embedding_model.encode([text2])[0]\n",
    "    return cosine_similarity([emb1], [emb2])[0][0]"
   ]
  },
  {
   "cell_type": "code",
   "execution_count": 3,
   "id": "42e9327a-0668-406a-bb7f-04fdb7db996b",
   "metadata": {},
   "outputs": [],
   "source": [
    "# --- Modele embeddingowe ---\n",
    "embedding_model = SentenceTransformer(\"all-MiniLM-L6-v2\")"
   ]
  },
  {
   "cell_type": "code",
   "execution_count": 4,
   "id": "efe82bd7-b4c8-43cc-8a52-4ac52f61698c",
   "metadata": {},
   "outputs": [],
   "source": [
    "# --- Parametry ---\n",
    "OPENAI_API_KEY = os.getenv(\"OPENAI_API_KEY\")\n",
    "openai.api_key = OPENAI_API_KEY\n",
    "N_SIMULATIONS = 100\n",
    "MODEL = 'gpt-4.1-nano'\n",
    "TEMPERATURE = 0.7\n",
    "PROMPT = \"Wyjaśnij, jak rośliny regulują fotosyntezę za pomocą efektów kwantowych.\"\n",
    "REFERENCE = \"Rośliny regulują fotosyntezę m.in. dzięki efektom kwantowym w antenach światłoczułych. Ekscytony, czyli pakiety energii wzbudzenia, poruszają się tam w sposób koherentny (falowy), co pozwala na niemal bezstratny transport do centrum reakcji.\"\n",
    "\n",
    "CONTEXT = [(\n",
    "    \"Rośliny regulują fotosyntezę w różny sposób, dostosowując ilość światła, które przekształcają w energię. \"\n",
    "    \"Jednym z takich mechanizmów jest wykorzystanie zjawisk kwantowych w antenach światłoczułych, gdzie energia \"\n",
    "    \"przemieszcza się w formie ekscytonów – pakietów energii. Ekscytony mogą przemieszczać się wieloma drogami jednocześnie, \"\n",
    "    \"co pozwala na bardzo wydajny, niemal bezstratny transport energii do centrum reakcji fotosyntetycznej.\"\n",
    ")]\n",
    "RETRIEVAL_CONTEXT = [(\n",
    "    \"Ekscytony to pakiety energii wzbudzenia przemieszczające się w antenach światłoczułych roślin. \"\n",
    "    \"Dzięki zjawiskom koherencji kwantowej mogą one poruszać się wieloma ścieżkami jednocześnie, \"\n",
    "    \"co pozwala na niemal bezstratny transport energii do centrum reakcji. Jest to przykład wykorzystania \"\n",
    "    \"efektów kwantowych przez rośliny w procesie regulacji fotosyntezy.\"\n",
    ")]"
   ]
  },
  {
   "cell_type": "code",
   "execution_count": 6,
   "id": "0517d9f4-e516-468f-bccf-947d173c2119",
   "metadata": {},
   "outputs": [],
   "source": [
    "# --- Metryki LLM ---\n",
    "answer_relevancy_metric = AnswerRelevancyMetric(threshold=TEMPERATURE, model=MODEL,include_reason=False)\n",
    "hallucination_metric = HallucinationMetric(threshold=TEMPERATURE, model=MODEL, include_reason=False)\n",
    "correctness_metric = GEval(\n",
    "    name=\"Correctness\",\n",
    "    model=MODEL,\n",
    "    evaluation_steps=[\n",
    "        \"Check whether the facts in 'actual output' contradicts any facts in 'expected output'\",\n",
    "        \"You should also heavily penalize omission of detail\",\n",
    "        \"Vague language, or contradicting OPINIONS, are OK\"\n",
    "    ],\n",
    "    evaluation_params=[LLMTestCaseParams.INPUT, LLMTestCaseParams.ACTUAL_OUTPUT, LLMTestCaseParams.EXPECTED_OUTPUT]\n",
    ")"
   ]
  },
  {
   "cell_type": "code",
   "execution_count": 7,
   "id": "55973020-ee67-42e3-9c40-516723802d45",
   "metadata": {},
   "outputs": [
    {
     "name": "stderr",
     "output_type": "stream",
     "text": [
      "100%|████████████████████████████████████████████████████████████████████████████████| 100/100 [07:27<00:00,  4.48s/it]\n"
     ]
    }
   ],
   "source": [
    "# --- Symulacja Monte Carlo (MC) ---\n",
    "outputs = []\n",
    "for i in tqdm(range(N_SIMULATIONS)):\n",
    "    output = get_response(PROMPT, TEMPERATURE)\n",
    "    outputs.append(output)"
   ]
  },
  {
   "cell_type": "code",
   "execution_count": 8,
   "id": "a0551f6d-7370-48a6-9652-0035cf5d45d8",
   "metadata": {},
   "outputs": [],
   "source": [
    "with open('./data/outputs_quantum_T07.pkl', 'wb') as fp:\n",
    "    pickle.dump(outputs, fp)"
   ]
  },
  {
   "cell_type": "code",
   "execution_count": 9,
   "id": "c762bac1-effe-4470-b132-283523b5e3f7",
   "metadata": {},
   "outputs": [],
   "source": [
    "test_cases = []\n",
    "for i in range(len(outputs)):\n",
    "    similarity = get_similarity(outputs[i], REFERENCE)\n",
    "    length = len(outputs[i].split())\n",
    "\n",
    "    test_case = LLMTestCase(\n",
    "        input=PROMPT,\n",
    "        actual_output=outputs[i],\n",
    "        expected_output=REFERENCE,\n",
    "        retrieval_context=RETRIEVAL_CONTEXT,\n",
    "        context=CONTEXT\n",
    "    )\n",
    "\n",
    "    test_case.metadata = {\n",
    "        \"simulation\": i + 1,\n",
    "        \"output\": outputs[i],\n",
    "        \"similarity\": similarity,\n",
    "        \"length\": length\n",
    "    }\n",
    "    \n",
    "    test_cases.append(test_case)"
   ]
  },
  {
   "cell_type": "code",
   "execution_count": 10,
   "id": "fd1d61dc-a34f-4fca-998a-f67b3e3f32be",
   "metadata": {},
   "outputs": [
    {
     "name": "stdout",
     "output_type": "stream",
     "text": [
      "0 5\n"
     ]
    },
    {
     "data": {
      "text/html": [
       "<pre style=\"white-space:pre;overflow-x:auto;line-height:normal;font-family:Menlo,'DejaVu Sans Mono',consolas,'Courier New',monospace\">\n",
       "<span style=\"color: #05f58d; text-decoration-color: #05f58d\">✓</span> Tests finished 🎉! Run <span style=\"color: #008000; text-decoration-color: #008000; font-weight: bold\">'deepeval view'</span> to analyze, debug, and save evaluation results on <span style=\"color: #6a00ff; text-decoration-color: #6a00ff\">Confident AI</span>.\n",
       "\n",
       "</pre>\n"
      ],
      "text/plain": [
       "\n",
       "\u001b[38;2;5;245;141m✓\u001b[0m Tests finished 🎉! Run \u001b[1;32m'deepeval view'\u001b[0m to analyze, debug, and save evaluation results on \u001b[38;2;106;0;255mConfident AI\u001b[0m.\n",
       "\n"
      ]
     },
     "metadata": {},
     "output_type": "display_data"
    },
    {
     "name": "stdout",
     "output_type": "stream",
     "text": [
      "5 10\n"
     ]
    },
    {
     "data": {
      "text/html": [
       "<pre style=\"white-space:pre;overflow-x:auto;line-height:normal;font-family:Menlo,'DejaVu Sans Mono',consolas,'Courier New',monospace\">\n",
       "<span style=\"color: #05f58d; text-decoration-color: #05f58d\">✓</span> Tests finished 🎉! Run <span style=\"color: #008000; text-decoration-color: #008000; font-weight: bold\">'deepeval view'</span> to analyze, debug, and save evaluation results on <span style=\"color: #6a00ff; text-decoration-color: #6a00ff\">Confident AI</span>.\n",
       "\n",
       "</pre>\n"
      ],
      "text/plain": [
       "\n",
       "\u001b[38;2;5;245;141m✓\u001b[0m Tests finished 🎉! Run \u001b[1;32m'deepeval view'\u001b[0m to analyze, debug, and save evaluation results on \u001b[38;2;106;0;255mConfident AI\u001b[0m.\n",
       "\n"
      ]
     },
     "metadata": {},
     "output_type": "display_data"
    },
    {
     "name": "stdout",
     "output_type": "stream",
     "text": [
      "10 15\n"
     ]
    },
    {
     "data": {
      "text/html": [
       "<pre style=\"white-space:pre;overflow-x:auto;line-height:normal;font-family:Menlo,'DejaVu Sans Mono',consolas,'Courier New',monospace\">\n",
       "<span style=\"color: #05f58d; text-decoration-color: #05f58d\">✓</span> Tests finished 🎉! Run <span style=\"color: #008000; text-decoration-color: #008000; font-weight: bold\">'deepeval view'</span> to analyze, debug, and save evaluation results on <span style=\"color: #6a00ff; text-decoration-color: #6a00ff\">Confident AI</span>.\n",
       "\n",
       "</pre>\n"
      ],
      "text/plain": [
       "\n",
       "\u001b[38;2;5;245;141m✓\u001b[0m Tests finished 🎉! Run \u001b[1;32m'deepeval view'\u001b[0m to analyze, debug, and save evaluation results on \u001b[38;2;106;0;255mConfident AI\u001b[0m.\n",
       "\n"
      ]
     },
     "metadata": {},
     "output_type": "display_data"
    },
    {
     "name": "stdout",
     "output_type": "stream",
     "text": [
      "15 20\n"
     ]
    },
    {
     "data": {
      "text/html": [
       "<pre style=\"white-space:pre;overflow-x:auto;line-height:normal;font-family:Menlo,'DejaVu Sans Mono',consolas,'Courier New',monospace\">\n",
       "<span style=\"color: #05f58d; text-decoration-color: #05f58d\">✓</span> Tests finished 🎉! Run <span style=\"color: #008000; text-decoration-color: #008000; font-weight: bold\">'deepeval view'</span> to analyze, debug, and save evaluation results on <span style=\"color: #6a00ff; text-decoration-color: #6a00ff\">Confident AI</span>.\n",
       "\n",
       "</pre>\n"
      ],
      "text/plain": [
       "\n",
       "\u001b[38;2;5;245;141m✓\u001b[0m Tests finished 🎉! Run \u001b[1;32m'deepeval view'\u001b[0m to analyze, debug, and save evaluation results on \u001b[38;2;106;0;255mConfident AI\u001b[0m.\n",
       "\n"
      ]
     },
     "metadata": {},
     "output_type": "display_data"
    },
    {
     "name": "stdout",
     "output_type": "stream",
     "text": [
      "20 25\n"
     ]
    },
    {
     "data": {
      "text/html": [
       "<pre style=\"white-space:pre;overflow-x:auto;line-height:normal;font-family:Menlo,'DejaVu Sans Mono',consolas,'Courier New',monospace\">\n",
       "<span style=\"color: #05f58d; text-decoration-color: #05f58d\">✓</span> Tests finished 🎉! Run <span style=\"color: #008000; text-decoration-color: #008000; font-weight: bold\">'deepeval view'</span> to analyze, debug, and save evaluation results on <span style=\"color: #6a00ff; text-decoration-color: #6a00ff\">Confident AI</span>.\n",
       "\n",
       "</pre>\n"
      ],
      "text/plain": [
       "\n",
       "\u001b[38;2;5;245;141m✓\u001b[0m Tests finished 🎉! Run \u001b[1;32m'deepeval view'\u001b[0m to analyze, debug, and save evaluation results on \u001b[38;2;106;0;255mConfident AI\u001b[0m.\n",
       "\n"
      ]
     },
     "metadata": {},
     "output_type": "display_data"
    },
    {
     "name": "stdout",
     "output_type": "stream",
     "text": [
      "25 30\n"
     ]
    },
    {
     "data": {
      "text/html": [
       "<pre style=\"white-space:pre;overflow-x:auto;line-height:normal;font-family:Menlo,'DejaVu Sans Mono',consolas,'Courier New',monospace\">\n",
       "<span style=\"color: #05f58d; text-decoration-color: #05f58d\">✓</span> Tests finished 🎉! Run <span style=\"color: #008000; text-decoration-color: #008000; font-weight: bold\">'deepeval view'</span> to analyze, debug, and save evaluation results on <span style=\"color: #6a00ff; text-decoration-color: #6a00ff\">Confident AI</span>.\n",
       "\n",
       "</pre>\n"
      ],
      "text/plain": [
       "\n",
       "\u001b[38;2;5;245;141m✓\u001b[0m Tests finished 🎉! Run \u001b[1;32m'deepeval view'\u001b[0m to analyze, debug, and save evaluation results on \u001b[38;2;106;0;255mConfident AI\u001b[0m.\n",
       "\n"
      ]
     },
     "metadata": {},
     "output_type": "display_data"
    },
    {
     "name": "stdout",
     "output_type": "stream",
     "text": [
      "30 35\n"
     ]
    },
    {
     "data": {
      "text/html": [
       "<pre style=\"white-space:pre;overflow-x:auto;line-height:normal;font-family:Menlo,'DejaVu Sans Mono',consolas,'Courier New',monospace\">\n",
       "<span style=\"color: #05f58d; text-decoration-color: #05f58d\">✓</span> Tests finished 🎉! Run <span style=\"color: #008000; text-decoration-color: #008000; font-weight: bold\">'deepeval view'</span> to analyze, debug, and save evaluation results on <span style=\"color: #6a00ff; text-decoration-color: #6a00ff\">Confident AI</span>.\n",
       "\n",
       "</pre>\n"
      ],
      "text/plain": [
       "\n",
       "\u001b[38;2;5;245;141m✓\u001b[0m Tests finished 🎉! Run \u001b[1;32m'deepeval view'\u001b[0m to analyze, debug, and save evaluation results on \u001b[38;2;106;0;255mConfident AI\u001b[0m.\n",
       "\n"
      ]
     },
     "metadata": {},
     "output_type": "display_data"
    },
    {
     "name": "stdout",
     "output_type": "stream",
     "text": [
      "35 40\n"
     ]
    },
    {
     "data": {
      "text/html": [
       "<pre style=\"white-space:pre;overflow-x:auto;line-height:normal;font-family:Menlo,'DejaVu Sans Mono',consolas,'Courier New',monospace\">\n",
       "<span style=\"color: #05f58d; text-decoration-color: #05f58d\">✓</span> Tests finished 🎉! Run <span style=\"color: #008000; text-decoration-color: #008000; font-weight: bold\">'deepeval view'</span> to analyze, debug, and save evaluation results on <span style=\"color: #6a00ff; text-decoration-color: #6a00ff\">Confident AI</span>.\n",
       "\n",
       "</pre>\n"
      ],
      "text/plain": [
       "\n",
       "\u001b[38;2;5;245;141m✓\u001b[0m Tests finished 🎉! Run \u001b[1;32m'deepeval view'\u001b[0m to analyze, debug, and save evaluation results on \u001b[38;2;106;0;255mConfident AI\u001b[0m.\n",
       "\n"
      ]
     },
     "metadata": {},
     "output_type": "display_data"
    },
    {
     "name": "stdout",
     "output_type": "stream",
     "text": [
      "40 45\n"
     ]
    },
    {
     "data": {
      "text/html": [
       "<pre style=\"white-space:pre;overflow-x:auto;line-height:normal;font-family:Menlo,'DejaVu Sans Mono',consolas,'Courier New',monospace\">\n",
       "<span style=\"color: #05f58d; text-decoration-color: #05f58d\">✓</span> Tests finished 🎉! Run <span style=\"color: #008000; text-decoration-color: #008000; font-weight: bold\">'deepeval view'</span> to analyze, debug, and save evaluation results on <span style=\"color: #6a00ff; text-decoration-color: #6a00ff\">Confident AI</span>.\n",
       "\n",
       "</pre>\n"
      ],
      "text/plain": [
       "\n",
       "\u001b[38;2;5;245;141m✓\u001b[0m Tests finished 🎉! Run \u001b[1;32m'deepeval view'\u001b[0m to analyze, debug, and save evaluation results on \u001b[38;2;106;0;255mConfident AI\u001b[0m.\n",
       "\n"
      ]
     },
     "metadata": {},
     "output_type": "display_data"
    },
    {
     "name": "stdout",
     "output_type": "stream",
     "text": [
      "45 50\n"
     ]
    },
    {
     "data": {
      "text/html": [
       "<pre style=\"white-space:pre;overflow-x:auto;line-height:normal;font-family:Menlo,'DejaVu Sans Mono',consolas,'Courier New',monospace\">\n",
       "<span style=\"color: #05f58d; text-decoration-color: #05f58d\">✓</span> Tests finished 🎉! Run <span style=\"color: #008000; text-decoration-color: #008000; font-weight: bold\">'deepeval view'</span> to analyze, debug, and save evaluation results on <span style=\"color: #6a00ff; text-decoration-color: #6a00ff\">Confident AI</span>.\n",
       "\n",
       "</pre>\n"
      ],
      "text/plain": [
       "\n",
       "\u001b[38;2;5;245;141m✓\u001b[0m Tests finished 🎉! Run \u001b[1;32m'deepeval view'\u001b[0m to analyze, debug, and save evaluation results on \u001b[38;2;106;0;255mConfident AI\u001b[0m.\n",
       "\n"
      ]
     },
     "metadata": {},
     "output_type": "display_data"
    },
    {
     "name": "stdout",
     "output_type": "stream",
     "text": [
      "50 55\n"
     ]
    },
    {
     "data": {
      "text/html": [
       "<pre style=\"white-space:pre;overflow-x:auto;line-height:normal;font-family:Menlo,'DejaVu Sans Mono',consolas,'Courier New',monospace\">\n",
       "<span style=\"color: #05f58d; text-decoration-color: #05f58d\">✓</span> Tests finished 🎉! Run <span style=\"color: #008000; text-decoration-color: #008000; font-weight: bold\">'deepeval view'</span> to analyze, debug, and save evaluation results on <span style=\"color: #6a00ff; text-decoration-color: #6a00ff\">Confident AI</span>.\n",
       "\n",
       "</pre>\n"
      ],
      "text/plain": [
       "\n",
       "\u001b[38;2;5;245;141m✓\u001b[0m Tests finished 🎉! Run \u001b[1;32m'deepeval view'\u001b[0m to analyze, debug, and save evaluation results on \u001b[38;2;106;0;255mConfident AI\u001b[0m.\n",
       "\n"
      ]
     },
     "metadata": {},
     "output_type": "display_data"
    },
    {
     "name": "stdout",
     "output_type": "stream",
     "text": [
      "55 60\n"
     ]
    },
    {
     "data": {
      "text/html": [
       "<pre style=\"white-space:pre;overflow-x:auto;line-height:normal;font-family:Menlo,'DejaVu Sans Mono',consolas,'Courier New',monospace\">\n",
       "<span style=\"color: #05f58d; text-decoration-color: #05f58d\">✓</span> Tests finished 🎉! Run <span style=\"color: #008000; text-decoration-color: #008000; font-weight: bold\">'deepeval view'</span> to analyze, debug, and save evaluation results on <span style=\"color: #6a00ff; text-decoration-color: #6a00ff\">Confident AI</span>.\n",
       "\n",
       "</pre>\n"
      ],
      "text/plain": [
       "\n",
       "\u001b[38;2;5;245;141m✓\u001b[0m Tests finished 🎉! Run \u001b[1;32m'deepeval view'\u001b[0m to analyze, debug, and save evaluation results on \u001b[38;2;106;0;255mConfident AI\u001b[0m.\n",
       "\n"
      ]
     },
     "metadata": {},
     "output_type": "display_data"
    },
    {
     "name": "stdout",
     "output_type": "stream",
     "text": [
      "60 65\n"
     ]
    },
    {
     "data": {
      "text/html": [
       "<pre style=\"white-space:pre;overflow-x:auto;line-height:normal;font-family:Menlo,'DejaVu Sans Mono',consolas,'Courier New',monospace\">\n",
       "<span style=\"color: #05f58d; text-decoration-color: #05f58d\">✓</span> Tests finished 🎉! Run <span style=\"color: #008000; text-decoration-color: #008000; font-weight: bold\">'deepeval view'</span> to analyze, debug, and save evaluation results on <span style=\"color: #6a00ff; text-decoration-color: #6a00ff\">Confident AI</span>.\n",
       "\n",
       "</pre>\n"
      ],
      "text/plain": [
       "\n",
       "\u001b[38;2;5;245;141m✓\u001b[0m Tests finished 🎉! Run \u001b[1;32m'deepeval view'\u001b[0m to analyze, debug, and save evaluation results on \u001b[38;2;106;0;255mConfident AI\u001b[0m.\n",
       "\n"
      ]
     },
     "metadata": {},
     "output_type": "display_data"
    },
    {
     "name": "stdout",
     "output_type": "stream",
     "text": [
      "65 70\n"
     ]
    },
    {
     "data": {
      "text/html": [
       "<pre style=\"white-space:pre;overflow-x:auto;line-height:normal;font-family:Menlo,'DejaVu Sans Mono',consolas,'Courier New',monospace\">\n",
       "<span style=\"color: #05f58d; text-decoration-color: #05f58d\">✓</span> Tests finished 🎉! Run <span style=\"color: #008000; text-decoration-color: #008000; font-weight: bold\">'deepeval view'</span> to analyze, debug, and save evaluation results on <span style=\"color: #6a00ff; text-decoration-color: #6a00ff\">Confident AI</span>.\n",
       "\n",
       "</pre>\n"
      ],
      "text/plain": [
       "\n",
       "\u001b[38;2;5;245;141m✓\u001b[0m Tests finished 🎉! Run \u001b[1;32m'deepeval view'\u001b[0m to analyze, debug, and save evaluation results on \u001b[38;2;106;0;255mConfident AI\u001b[0m.\n",
       "\n"
      ]
     },
     "metadata": {},
     "output_type": "display_data"
    },
    {
     "name": "stdout",
     "output_type": "stream",
     "text": [
      "70 75\n"
     ]
    },
    {
     "data": {
      "text/html": [
       "<pre style=\"white-space:pre;overflow-x:auto;line-height:normal;font-family:Menlo,'DejaVu Sans Mono',consolas,'Courier New',monospace\">\n",
       "<span style=\"color: #05f58d; text-decoration-color: #05f58d\">✓</span> Tests finished 🎉! Run <span style=\"color: #008000; text-decoration-color: #008000; font-weight: bold\">'deepeval view'</span> to analyze, debug, and save evaluation results on <span style=\"color: #6a00ff; text-decoration-color: #6a00ff\">Confident AI</span>.\n",
       "\n",
       "</pre>\n"
      ],
      "text/plain": [
       "\n",
       "\u001b[38;2;5;245;141m✓\u001b[0m Tests finished 🎉! Run \u001b[1;32m'deepeval view'\u001b[0m to analyze, debug, and save evaluation results on \u001b[38;2;106;0;255mConfident AI\u001b[0m.\n",
       "\n"
      ]
     },
     "metadata": {},
     "output_type": "display_data"
    },
    {
     "name": "stdout",
     "output_type": "stream",
     "text": [
      "75 80\n"
     ]
    },
    {
     "data": {
      "text/html": [
       "<pre style=\"white-space:pre;overflow-x:auto;line-height:normal;font-family:Menlo,'DejaVu Sans Mono',consolas,'Courier New',monospace\">\n",
       "<span style=\"color: #05f58d; text-decoration-color: #05f58d\">✓</span> Tests finished 🎉! Run <span style=\"color: #008000; text-decoration-color: #008000; font-weight: bold\">'deepeval view'</span> to analyze, debug, and save evaluation results on <span style=\"color: #6a00ff; text-decoration-color: #6a00ff\">Confident AI</span>.\n",
       "\n",
       "</pre>\n"
      ],
      "text/plain": [
       "\n",
       "\u001b[38;2;5;245;141m✓\u001b[0m Tests finished 🎉! Run \u001b[1;32m'deepeval view'\u001b[0m to analyze, debug, and save evaluation results on \u001b[38;2;106;0;255mConfident AI\u001b[0m.\n",
       "\n"
      ]
     },
     "metadata": {},
     "output_type": "display_data"
    },
    {
     "name": "stdout",
     "output_type": "stream",
     "text": [
      "80 85\n"
     ]
    },
    {
     "data": {
      "text/html": [
       "<pre style=\"white-space:pre;overflow-x:auto;line-height:normal;font-family:Menlo,'DejaVu Sans Mono',consolas,'Courier New',monospace\">\n",
       "<span style=\"color: #05f58d; text-decoration-color: #05f58d\">✓</span> Tests finished 🎉! Run <span style=\"color: #008000; text-decoration-color: #008000; font-weight: bold\">'deepeval view'</span> to analyze, debug, and save evaluation results on <span style=\"color: #6a00ff; text-decoration-color: #6a00ff\">Confident AI</span>.\n",
       "\n",
       "</pre>\n"
      ],
      "text/plain": [
       "\n",
       "\u001b[38;2;5;245;141m✓\u001b[0m Tests finished 🎉! Run \u001b[1;32m'deepeval view'\u001b[0m to analyze, debug, and save evaluation results on \u001b[38;2;106;0;255mConfident AI\u001b[0m.\n",
       "\n"
      ]
     },
     "metadata": {},
     "output_type": "display_data"
    },
    {
     "name": "stdout",
     "output_type": "stream",
     "text": [
      "85 90\n"
     ]
    },
    {
     "data": {
      "text/html": [
       "<pre style=\"white-space:pre;overflow-x:auto;line-height:normal;font-family:Menlo,'DejaVu Sans Mono',consolas,'Courier New',monospace\">\n",
       "<span style=\"color: #05f58d; text-decoration-color: #05f58d\">✓</span> Tests finished 🎉! Run <span style=\"color: #008000; text-decoration-color: #008000; font-weight: bold\">'deepeval view'</span> to analyze, debug, and save evaluation results on <span style=\"color: #6a00ff; text-decoration-color: #6a00ff\">Confident AI</span>.\n",
       "\n",
       "</pre>\n"
      ],
      "text/plain": [
       "\n",
       "\u001b[38;2;5;245;141m✓\u001b[0m Tests finished 🎉! Run \u001b[1;32m'deepeval view'\u001b[0m to analyze, debug, and save evaluation results on \u001b[38;2;106;0;255mConfident AI\u001b[0m.\n",
       "\n"
      ]
     },
     "metadata": {},
     "output_type": "display_data"
    },
    {
     "name": "stdout",
     "output_type": "stream",
     "text": [
      "90 95\n"
     ]
    },
    {
     "data": {
      "text/html": [
       "<pre style=\"white-space:pre;overflow-x:auto;line-height:normal;font-family:Menlo,'DejaVu Sans Mono',consolas,'Courier New',monospace\">\n",
       "<span style=\"color: #05f58d; text-decoration-color: #05f58d\">✓</span> Tests finished 🎉! Run <span style=\"color: #008000; text-decoration-color: #008000; font-weight: bold\">'deepeval view'</span> to analyze, debug, and save evaluation results on <span style=\"color: #6a00ff; text-decoration-color: #6a00ff\">Confident AI</span>.\n",
       "\n",
       "</pre>\n"
      ],
      "text/plain": [
       "\n",
       "\u001b[38;2;5;245;141m✓\u001b[0m Tests finished 🎉! Run \u001b[1;32m'deepeval view'\u001b[0m to analyze, debug, and save evaluation results on \u001b[38;2;106;0;255mConfident AI\u001b[0m.\n",
       "\n"
      ]
     },
     "metadata": {},
     "output_type": "display_data"
    },
    {
     "name": "stdout",
     "output_type": "stream",
     "text": [
      "95 100\n"
     ]
    },
    {
     "data": {
      "text/html": [
       "<pre style=\"white-space:pre;overflow-x:auto;line-height:normal;font-family:Menlo,'DejaVu Sans Mono',consolas,'Courier New',monospace\">\n",
       "<span style=\"color: #05f58d; text-decoration-color: #05f58d\">✓</span> Tests finished 🎉! Run <span style=\"color: #008000; text-decoration-color: #008000; font-weight: bold\">'deepeval view'</span> to analyze, debug, and save evaluation results on <span style=\"color: #6a00ff; text-decoration-color: #6a00ff\">Confident AI</span>.\n",
       "\n",
       "</pre>\n"
      ],
      "text/plain": [
       "\n",
       "\u001b[38;2;5;245;141m✓\u001b[0m Tests finished 🎉! Run \u001b[1;32m'deepeval view'\u001b[0m to analyze, debug, and save evaluation results on \u001b[38;2;106;0;255mConfident AI\u001b[0m.\n",
       "\n"
      ]
     },
     "metadata": {},
     "output_type": "display_data"
    }
   ],
   "source": [
    "results = []\n",
    "for i in range(20):\n",
    "    from_i = i*5\n",
    "    to_i = (i+1)*5\n",
    "    print(from_i, to_i)\n",
    "    ts=test_cases[from_i:to_i]\n",
    "    eval_result = evaluate(\n",
    "        test_cases=ts,\n",
    "        metrics=[answer_relevancy_metric, hallucination_metric, correctness_metric],\n",
    "        display_config=DisplayConfig(show_indicator=False,print_results=False,verbose_mode=False, display_option=\"failling\")\n",
    "    )\n",
    "    for i in range(len(ts)):\n",
    "        answer_relevancy = None\n",
    "        faithfulness = None\n",
    "        hallucination = None\n",
    "        correctness = None\n",
    "        if eval_result is not None and i < len(eval_result.test_results):\n",
    "            for m in eval_result.test_results[i].metrics_data:\n",
    "                if m.name == 'Answer Relevancy':\n",
    "                    answer_relevancy = m.score\n",
    "                elif m.name == 'Hallucination':\n",
    "                    hallucination = m.score\n",
    "                elif m.name == 'Correctness [GEval]':\n",
    "                    correctness = m.score\n",
    "                else:\n",
    "                    print(m.name)\n",
    "                    raise ValueError\n",
    "    \n",
    "        results.append({\n",
    "            \"simulation\": ts[i].metadata[\"simulation\"],\n",
    "            \"output\": ts[i].metadata[\"output\"],\n",
    "            \"similarity\": ts[i].metadata[\"similarity\"],\n",
    "            \"length\": ts[i].metadata[\"length\"],\n",
    "            \"answer_relevancy\":answer_relevancy,\n",
    "            \"hallucination\":hallucination,\n",
    "            'correctness': correctness\n",
    "        })"
   ]
  },
  {
   "cell_type": "code",
   "execution_count": 11,
   "id": "978b009b-0b47-4423-b8b8-a106b7989333",
   "metadata": {},
   "outputs": [
    {
     "data": {
      "text/html": [
       "<div>\n",
       "<style scoped>\n",
       "    .dataframe tbody tr th:only-of-type {\n",
       "        vertical-align: middle;\n",
       "    }\n",
       "\n",
       "    .dataframe tbody tr th {\n",
       "        vertical-align: top;\n",
       "    }\n",
       "\n",
       "    .dataframe thead th {\n",
       "        text-align: right;\n",
       "    }\n",
       "</style>\n",
       "<table border=\"1\" class=\"dataframe\">\n",
       "  <thead>\n",
       "    <tr style=\"text-align: right;\">\n",
       "      <th></th>\n",
       "      <th>simulation</th>\n",
       "      <th>output</th>\n",
       "      <th>similarity</th>\n",
       "      <th>length</th>\n",
       "      <th>answer_relevancy</th>\n",
       "      <th>hallucination</th>\n",
       "      <th>correctness</th>\n",
       "    </tr>\n",
       "  </thead>\n",
       "  <tbody>\n",
       "    <tr>\n",
       "      <th>0</th>\n",
       "      <td>1</td>\n",
       "      <td>Rośliny regulują fotosyntezę poprzez złożone p...</td>\n",
       "      <td>0.657412</td>\n",
       "      <td>125</td>\n",
       "      <td>1.0</td>\n",
       "      <td>0.0</td>\n",
       "      <td>0.462569</td>\n",
       "    </tr>\n",
       "    <tr>\n",
       "      <th>1</th>\n",
       "      <td>2</td>\n",
       "      <td>Fotosynteza jest procesem, w którym rośliny za...</td>\n",
       "      <td>0.600994</td>\n",
       "      <td>127</td>\n",
       "      <td>1.0</td>\n",
       "      <td>0.0</td>\n",
       "      <td>0.519385</td>\n",
       "    </tr>\n",
       "    <tr>\n",
       "      <th>2</th>\n",
       "      <td>3</td>\n",
       "      <td>Rośliny regulują fotosyntezę korzystając z efe...</td>\n",
       "      <td>0.789637</td>\n",
       "      <td>121</td>\n",
       "      <td>1.0</td>\n",
       "      <td>0.0</td>\n",
       "      <td>0.401917</td>\n",
       "    </tr>\n",
       "    <tr>\n",
       "      <th>3</th>\n",
       "      <td>4</td>\n",
       "      <td>Rośliny regulują fotosyntezę za pomocą efektów...</td>\n",
       "      <td>0.756934</td>\n",
       "      <td>128</td>\n",
       "      <td>1.0</td>\n",
       "      <td>0.0</td>\n",
       "      <td>0.683015</td>\n",
       "    </tr>\n",
       "    <tr>\n",
       "      <th>4</th>\n",
       "      <td>5</td>\n",
       "      <td>Rośliny regulują proces fotosyntezy, korzystaj...</td>\n",
       "      <td>0.640702</td>\n",
       "      <td>120</td>\n",
       "      <td>1.0</td>\n",
       "      <td>0.0</td>\n",
       "      <td>0.567277</td>\n",
       "    </tr>\n",
       "    <tr>\n",
       "      <th>...</th>\n",
       "      <td>...</td>\n",
       "      <td>...</td>\n",
       "      <td>...</td>\n",
       "      <td>...</td>\n",
       "      <td>...</td>\n",
       "      <td>...</td>\n",
       "      <td>...</td>\n",
       "    </tr>\n",
       "    <tr>\n",
       "      <th>95</th>\n",
       "      <td>96</td>\n",
       "      <td>Rośliny regulują fotosyntezę, korzystając z ef...</td>\n",
       "      <td>0.631373</td>\n",
       "      <td>121</td>\n",
       "      <td>1.0</td>\n",
       "      <td>0.0</td>\n",
       "      <td>0.504262</td>\n",
       "    </tr>\n",
       "    <tr>\n",
       "      <th>96</th>\n",
       "      <td>97</td>\n",
       "      <td>Rośliny regulują fotosyntezę, korzystając z ef...</td>\n",
       "      <td>0.676970</td>\n",
       "      <td>118</td>\n",
       "      <td>1.0</td>\n",
       "      <td>1.0</td>\n",
       "      <td>0.391419</td>\n",
       "    </tr>\n",
       "    <tr>\n",
       "      <th>97</th>\n",
       "      <td>98</td>\n",
       "      <td>Rośliny regulują fotosyntezę, korzystając z ef...</td>\n",
       "      <td>0.549481</td>\n",
       "      <td>128</td>\n",
       "      <td>1.0</td>\n",
       "      <td>0.0</td>\n",
       "      <td>0.379217</td>\n",
       "    </tr>\n",
       "    <tr>\n",
       "      <th>98</th>\n",
       "      <td>99</td>\n",
       "      <td>Rośliny regulują fotosyntezę, korzystając z ef...</td>\n",
       "      <td>0.709183</td>\n",
       "      <td>119</td>\n",
       "      <td>1.0</td>\n",
       "      <td>0.0</td>\n",
       "      <td>0.451309</td>\n",
       "    </tr>\n",
       "    <tr>\n",
       "      <th>99</th>\n",
       "      <td>100</td>\n",
       "      <td>Rośliny regulują fotosyntezę, korzystając z ef...</td>\n",
       "      <td>0.587455</td>\n",
       "      <td>115</td>\n",
       "      <td>1.0</td>\n",
       "      <td>0.0</td>\n",
       "      <td>0.572735</td>\n",
       "    </tr>\n",
       "  </tbody>\n",
       "</table>\n",
       "<p>100 rows × 7 columns</p>\n",
       "</div>"
      ],
      "text/plain": [
       "    simulation                                             output  similarity  \\\n",
       "0            1  Rośliny regulują fotosyntezę poprzez złożone p...    0.657412   \n",
       "1            2  Fotosynteza jest procesem, w którym rośliny za...    0.600994   \n",
       "2            3  Rośliny regulują fotosyntezę korzystając z efe...    0.789637   \n",
       "3            4  Rośliny regulują fotosyntezę za pomocą efektów...    0.756934   \n",
       "4            5  Rośliny regulują proces fotosyntezy, korzystaj...    0.640702   \n",
       "..         ...                                                ...         ...   \n",
       "95          96  Rośliny regulują fotosyntezę, korzystając z ef...    0.631373   \n",
       "96          97  Rośliny regulują fotosyntezę, korzystając z ef...    0.676970   \n",
       "97          98  Rośliny regulują fotosyntezę, korzystając z ef...    0.549481   \n",
       "98          99  Rośliny regulują fotosyntezę, korzystając z ef...    0.709183   \n",
       "99         100  Rośliny regulują fotosyntezę, korzystając z ef...    0.587455   \n",
       "\n",
       "    length  answer_relevancy  hallucination  correctness  \n",
       "0      125               1.0            0.0     0.462569  \n",
       "1      127               1.0            0.0     0.519385  \n",
       "2      121               1.0            0.0     0.401917  \n",
       "3      128               1.0            0.0     0.683015  \n",
       "4      120               1.0            0.0     0.567277  \n",
       "..     ...               ...            ...          ...  \n",
       "95     121               1.0            0.0     0.504262  \n",
       "96     118               1.0            1.0     0.391419  \n",
       "97     128               1.0            0.0     0.379217  \n",
       "98     119               1.0            0.0     0.451309  \n",
       "99     115               1.0            0.0     0.572735  \n",
       "\n",
       "[100 rows x 7 columns]"
      ]
     },
     "execution_count": 11,
     "metadata": {},
     "output_type": "execute_result"
    }
   ],
   "source": [
    "df = pd.DataFrame(results)\n",
    "df"
   ]
  },
  {
   "cell_type": "code",
   "execution_count": 13,
   "id": "095884f4-4637-4e49-8502-bf70445aa67d",
   "metadata": {},
   "outputs": [],
   "source": [
    "df.to_csv('./data/df_quantum_T07.csv', header=True, index=False, sep=';', decimal=',')"
   ]
  },
  {
   "cell_type": "code",
   "execution_count": 6,
   "id": "b4b5b89b-ec80-407f-b40a-9a14c213a2e4",
   "metadata": {},
   "outputs": [
    {
     "data": {
      "text/html": [
       "<div>\n",
       "<style scoped>\n",
       "    .dataframe tbody tr th:only-of-type {\n",
       "        vertical-align: middle;\n",
       "    }\n",
       "\n",
       "    .dataframe tbody tr th {\n",
       "        vertical-align: top;\n",
       "    }\n",
       "\n",
       "    .dataframe thead th {\n",
       "        text-align: right;\n",
       "    }\n",
       "</style>\n",
       "<table border=\"1\" class=\"dataframe\">\n",
       "  <thead>\n",
       "    <tr style=\"text-align: right;\">\n",
       "      <th></th>\n",
       "      <th>simulation</th>\n",
       "      <th>output</th>\n",
       "      <th>similarity</th>\n",
       "      <th>length</th>\n",
       "      <th>answer_relevancy</th>\n",
       "      <th>faithfulness</th>\n",
       "      <th>hallucination</th>\n",
       "      <th>correctness</th>\n",
       "    </tr>\n",
       "  </thead>\n",
       "  <tbody>\n",
       "    <tr>\n",
       "      <th>0</th>\n",
       "      <td>1</td>\n",
       "      <td>Rośliny regulują fotosyntezę dzięki efektom kw...</td>\n",
       "      <td>0.799664</td>\n",
       "      <td>55</td>\n",
       "      <td>1.000000</td>\n",
       "      <td>1.000000</td>\n",
       "      <td>1.0</td>\n",
       "      <td>0.747723</td>\n",
       "    </tr>\n",
       "    <tr>\n",
       "      <th>1</th>\n",
       "      <td>2</td>\n",
       "      <td>Rośliny regulują fotosyntezę dzięki efektom kw...</td>\n",
       "      <td>0.648492</td>\n",
       "      <td>50</td>\n",
       "      <td>1.000000</td>\n",
       "      <td>1.000000</td>\n",
       "      <td>1.0</td>\n",
       "      <td>0.693257</td>\n",
       "    </tr>\n",
       "    <tr>\n",
       "      <th>2</th>\n",
       "      <td>3</td>\n",
       "      <td>Rośliny regulują fotosyntezę dzięki efektom kw...</td>\n",
       "      <td>0.820410</td>\n",
       "      <td>47</td>\n",
       "      <td>1.000000</td>\n",
       "      <td>0.857143</td>\n",
       "      <td>1.0</td>\n",
       "      <td>0.455573</td>\n",
       "    </tr>\n",
       "    <tr>\n",
       "      <th>3</th>\n",
       "      <td>4</td>\n",
       "      <td>Rośliny regulują fotosyntezę dzięki efektom kw...</td>\n",
       "      <td>0.773285</td>\n",
       "      <td>50</td>\n",
       "      <td>0.666667</td>\n",
       "      <td>1.000000</td>\n",
       "      <td>1.0</td>\n",
       "      <td>0.424935</td>\n",
       "    </tr>\n",
       "    <tr>\n",
       "      <th>4</th>\n",
       "      <td>5</td>\n",
       "      <td>Rośliny regulują fotosyntezę dzięki efektom kw...</td>\n",
       "      <td>0.749532</td>\n",
       "      <td>54</td>\n",
       "      <td>0.555556</td>\n",
       "      <td>1.000000</td>\n",
       "      <td>1.0</td>\n",
       "      <td>0.658394</td>\n",
       "    </tr>\n",
       "    <tr>\n",
       "      <th>...</th>\n",
       "      <td>...</td>\n",
       "      <td>...</td>\n",
       "      <td>...</td>\n",
       "      <td>...</td>\n",
       "      <td>...</td>\n",
       "      <td>...</td>\n",
       "      <td>...</td>\n",
       "      <td>...</td>\n",
       "    </tr>\n",
       "    <tr>\n",
       "      <th>95</th>\n",
       "      <td>96</td>\n",
       "      <td>Rośliny regulują fotosyntezę dzięki efektom kw...</td>\n",
       "      <td>0.741089</td>\n",
       "      <td>61</td>\n",
       "      <td>1.000000</td>\n",
       "      <td>1.000000</td>\n",
       "      <td>1.0</td>\n",
       "      <td>0.605318</td>\n",
       "    </tr>\n",
       "    <tr>\n",
       "      <th>96</th>\n",
       "      <td>97</td>\n",
       "      <td>Rośliny regulują fotosyntezę dzięki efektom kw...</td>\n",
       "      <td>0.775955</td>\n",
       "      <td>50</td>\n",
       "      <td>0.875000</td>\n",
       "      <td>1.000000</td>\n",
       "      <td>1.0</td>\n",
       "      <td>0.443908</td>\n",
       "    </tr>\n",
       "    <tr>\n",
       "      <th>97</th>\n",
       "      <td>98</td>\n",
       "      <td>Rośliny regulują fotosyntezę korzystając z efe...</td>\n",
       "      <td>0.801618</td>\n",
       "      <td>45</td>\n",
       "      <td>1.000000</td>\n",
       "      <td>1.000000</td>\n",
       "      <td>0.0</td>\n",
       "      <td>0.557696</td>\n",
       "    </tr>\n",
       "    <tr>\n",
       "      <th>98</th>\n",
       "      <td>99</td>\n",
       "      <td>Rośliny regulują fotosyntezę dzięki efektom kw...</td>\n",
       "      <td>0.710054</td>\n",
       "      <td>63</td>\n",
       "      <td>1.000000</td>\n",
       "      <td>1.000000</td>\n",
       "      <td>1.0</td>\n",
       "      <td>0.435463</td>\n",
       "    </tr>\n",
       "    <tr>\n",
       "      <th>99</th>\n",
       "      <td>100</td>\n",
       "      <td>Rośliny regulują fotosyntezę dzięki efektom kw...</td>\n",
       "      <td>0.752387</td>\n",
       "      <td>68</td>\n",
       "      <td>0.571429</td>\n",
       "      <td>1.000000</td>\n",
       "      <td>1.0</td>\n",
       "      <td>0.519892</td>\n",
       "    </tr>\n",
       "  </tbody>\n",
       "</table>\n",
       "<p>100 rows × 8 columns</p>\n",
       "</div>"
      ],
      "text/plain": [
       "    simulation                                             output  similarity  \\\n",
       "0            1  Rośliny regulują fotosyntezę dzięki efektom kw...    0.799664   \n",
       "1            2  Rośliny regulują fotosyntezę dzięki efektom kw...    0.648492   \n",
       "2            3  Rośliny regulują fotosyntezę dzięki efektom kw...    0.820410   \n",
       "3            4  Rośliny regulują fotosyntezę dzięki efektom kw...    0.773285   \n",
       "4            5  Rośliny regulują fotosyntezę dzięki efektom kw...    0.749532   \n",
       "..         ...                                                ...         ...   \n",
       "95          96  Rośliny regulują fotosyntezę dzięki efektom kw...    0.741089   \n",
       "96          97  Rośliny regulują fotosyntezę dzięki efektom kw...    0.775955   \n",
       "97          98  Rośliny regulują fotosyntezę korzystając z efe...    0.801618   \n",
       "98          99  Rośliny regulują fotosyntezę dzięki efektom kw...    0.710054   \n",
       "99         100  Rośliny regulują fotosyntezę dzięki efektom kw...    0.752387   \n",
       "\n",
       "    length  answer_relevancy  faithfulness  hallucination  correctness  \n",
       "0       55          1.000000      1.000000            1.0     0.747723  \n",
       "1       50          1.000000      1.000000            1.0     0.693257  \n",
       "2       47          1.000000      0.857143            1.0     0.455573  \n",
       "3       50          0.666667      1.000000            1.0     0.424935  \n",
       "4       54          0.555556      1.000000            1.0     0.658394  \n",
       "..     ...               ...           ...            ...          ...  \n",
       "95      61          1.000000      1.000000            1.0     0.605318  \n",
       "96      50          0.875000      1.000000            1.0     0.443908  \n",
       "97      45          1.000000      1.000000            0.0     0.557696  \n",
       "98      63          1.000000      1.000000            1.0     0.435463  \n",
       "99      68          0.571429      1.000000            1.0     0.519892  \n",
       "\n",
       "[100 rows x 8 columns]"
      ]
     },
     "execution_count": 6,
     "metadata": {},
     "output_type": "execute_result"
    }
   ],
   "source": [
    "df = pd.read_csv('./data/df_quantum_T07.csv', sep=';', decimal=',')\n",
    "df"
   ]
  },
  {
   "cell_type": "code",
   "execution_count": 14,
   "id": "b9d62c8b-e0f3-4ebb-b256-7e5931bd40fd",
   "metadata": {},
   "outputs": [
    {
     "name": "stdout",
     "output_type": "stream",
     "text": [
      "\n",
      "📊 Statystyki:\n",
      "       similarity      length\n",
      "count  100.000000  100.000000\n",
      "mean     0.635367  122.450000\n",
      "std      0.060600    4.632723\n",
      "min      0.480679  114.000000\n",
      "25%      0.599738  119.000000\n",
      "50%      0.629450  122.000000\n",
      "75%      0.673174  126.000000\n",
      "max      0.789637  138.000000\n"
     ]
    },
    {
     "data": {
      "image/png": "[encoded data removed]",
      "text/plain": [
       "<Figure size 640x480 with 1 Axes>"
      ]
     },
     "metadata": {},
     "output_type": "display_data"
    },
    {
     "data": {
      "image/png": "[encoded data removed]",
      "text/plain": [
       "<Figure size 640x480 with 1 Axes>"
      ]
     },
     "metadata": {},
     "output_type": "display_data"
    },
    {
     "data": {
      "image/png": "[encoded data removed]",
      "text/plain": [
       "<Figure size 640x480 with 1 Axes>"
      ]
     },
     "metadata": {},
     "output_type": "display_data"
    },
    {
     "data": {
      "image/png": "[encoded data removed]",
      "text/plain": [
       "<Figure size 640x480 with 1 Axes>"
      ]
     },
     "metadata": {},
     "output_type": "display_data"
    },
    {
     "data": {
      "image/png": "[encoded data removed]",
      "text/plain": [
       "<Figure size 640x480 with 1 Axes>"
      ]
     },
     "metadata": {},
     "output_type": "display_data"
    }
   ],
   "source": [
    "# --- Analiza wyników ---\n",
    "print(\"\\n📊 Statystyki:\")\n",
    "print(df[[\"similarity\", \"length\"]].describe())\n",
    "\n",
    "# --- Wizualizacja ---\n",
    "sns.histplot(df[\"similarity\"], bins=20, kde=True)\n",
    "plt.title(f\"Rozkład podobieństwa odpowiedzi do wzorca T={TEMPERATURE}\")\n",
    "plt.xlabel(\"Similarity (cosine)\")\n",
    "plt.xlim(0.5, 1.0)\n",
    "plt.ylim(0, 20)\n",
    "plt.show()\n",
    "\n",
    "sns.histplot(df[\"length\"], bins=20, kde=True)\n",
    "plt.title(f\"Rozkład długości odpowiedzi T={TEMPERATURE}\")\n",
    "plt.xlabel(\"Liczba słów\")\n",
    "plt.show()\n",
    "\n",
    "sns.histplot(df[\"answer_relevancy\"], bins=20, kde=True)\n",
    "plt.title(f\"DeepEval Answer Relevancy T={TEMPERATURE}\")\n",
    "plt.xlabel(\"Liczba zapytań\")\n",
    "plt.show()\n",
    "\n",
    "sns.histplot(df[\"correctness\"], bins=20, kde=True)\n",
    "plt.title(f\"DeepEval Correctness T={TEMPERATURE}\")\n",
    "plt.xlabel(\"Liczba zapytań\")\n",
    "plt.show()\n",
    "\n",
    "sns.histplot(df[\"hallucination\"], bins=20, kde=True)\n",
    "plt.title(f\"DeepEval Hallucination T={TEMPERATURE}\")\n",
    "plt.xlabel(\"Liczba zapytań\")\n",
    "plt.show()"
   ]
  },
  {
   "cell_type": "code",
   "execution_count": null,
   "id": "2d77df89-b0bd-447c-b52f-f74d26f7dcd9",
   "metadata": {},
   "outputs": [],
   "source": []
  }
 ],
 "metadata": {
  "kernelspec": {
   "display_name": "Python 3 (ipykernel)",
   "language": "python",
   "name": "python3"
  },
  "language_info": {
   "codemirror_mode": {
    "name": "ipython",
    "version": 3
   },
   "file_extension": ".py",
   "mimetype": "text/x-python",
   "name": "python",
   "nbconvert_exporter": "python",
   "pygments_lexer": "ipython3",
   "version": "3.12.11"
  }
 },
 "nbformat": 4,
 "nbformat_minor": 5
}
